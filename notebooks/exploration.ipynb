{
 "cells": [
  {
   "cell_type": "markdown",
   "id": "93c3eb53-ce77-4c00-9cd5-99763efe4474",
   "metadata": {},
   "source": [
    "# Welcome to My Ted Talk"
   ]
  },
  {
   "cell_type": "code",
   "execution_count": 1,
   "id": "5dd02bb2-be6d-4e23-b5fa-805a66edf2c4",
   "metadata": {},
   "outputs": [],
   "source": [
    "import urllib.request, os, sys, json, pickle, re\n",
    "from os.path import join\n",
    "import pandas as pd, numpy as np\n",
    "from sklearn.ensemble import RandomForestRegressor\n",
    "import sklearn.metrics as metrics"
   ]
  },
  {
   "cell_type": "code",
   "execution_count": 2,
   "id": "14d064ff-16a0-4708-aad8-8d48beb7e70f",
   "metadata": {},
   "outputs": [
    {
     "data": {
      "text/plain": [
       "'../data'"
      ]
     },
     "execution_count": 2,
     "metadata": {},
     "output_type": "execute_result"
    }
   ],
   "source": [
    "path = join(\"..\", \"data\")\n",
    "path"
   ]
  },
  {
   "cell_type": "markdown",
   "id": "d5dcc3c6-9f9c-4a2d-802a-e2f5b39c8fff",
   "metadata": {},
   "source": [
    "## 1. Get Data"
   ]
  },
  {
   "cell_type": "code",
   "execution_count": 3,
   "id": "353f9e37-d9e0-4efb-bd0e-86a03b20a96e",
   "metadata": {},
   "outputs": [],
   "source": [
    "url = 'https://archive.ics.uci.edu/ml/machine-learning-databases/00560/SeoulBikeData.csv'"
   ]
  },
  {
   "cell_type": "code",
   "execution_count": 4,
   "id": "6662678d-c0e9-41a1-bf39-5bf1211371d7",
   "metadata": {},
   "outputs": [],
   "source": [
    "raw_data = join(path, 'raw', \"SeoulBikeData.csv\")"
   ]
  },
  {
   "cell_type": "code",
   "execution_count": 5,
   "id": "999964eb-cf93-40c8-8604-d46fe8bb46b7",
   "metadata": {},
   "outputs": [
    {
     "data": {
      "text/plain": [
       "('../data/raw/SeoulBikeData.csv', <http.client.HTTPMessage at 0x7f6e986d6d10>)"
      ]
     },
     "execution_count": 5,
     "metadata": {},
     "output_type": "execute_result"
    }
   ],
   "source": [
    "urllib.request.urlretrieve(url, raw_data)"
   ]
  },
  {
   "cell_type": "code",
   "execution_count": 6,
   "id": "9597a82b-89d0-469f-836e-1d337b5fbfa2",
   "metadata": {},
   "outputs": [
    {
     "name": "stdout",
     "output_type": "stream",
     "text": [
      "Date,Rented Bike Count,Hour,Temperature(�C),Humidity(%),Wind speed (m/s),Visibility (10m),Dew point temperature(�C),Solar Radiation (MJ/m2),Rainfall(mm),Snowfall (cm),Seasons,Holiday,Functioning Day\n",
      "01/12/2017,254,0,-5.2,37,2.2,2000,-17.6,0,0,0,Winter,No Holiday,Yes\n",
      "01/12/2017,204,1,-5.5,38,0.8,2000,-17.6,0,0,0,Winter,No Holiday,Yes\n",
      "01/12/2017,173,2,-6,39,1,2000,-17.7,0,0,0,Winter,No Holiday,Yes\n",
      "01/12/2017,107,3,-6.2,40,0.9,2000,-17.6,0,0,0,Winter,No Holiday,Yes\n"
     ]
    }
   ],
   "source": [
    "!head -n 5 ../data/raw/SeoulBikeData.csv"
   ]
  },
  {
   "cell_type": "code",
   "execution_count": 7,
   "id": "3aad3d35-674a-49e1-8175-1433c27051d0",
   "metadata": {},
   "outputs": [
    {
     "name": "stdout",
     "output_type": "stream",
     "text": [
      "Writing ../src/get_data.py\n"
     ]
    }
   ],
   "source": [
    "%%writefile ../src/get_data.py\n",
    "\n",
    "import urllib.request, os\n",
    "\n",
    "url = 'https://archive.ics.uci.edu/ml/machine-learning-databases/00560/SeoulBikeData.csv'\n",
    "path = os.path.join('data', 'raw')\n",
    "filename = 'SeoulBikeData.csv'\n",
    "\n",
    "if not os.path.exists(path): os.makedirs(path)\n",
    "        \n",
    "urllib.request.urlretrieve(url, os.path.join(path, filename))\n",
    "print(\"File Downloaded Successfully!\")"
   ]
  },
  {
   "cell_type": "markdown",
   "id": "539f6fa2-928f-47e3-be59-ece707b4c6c5",
   "metadata": {},
   "source": [
    "## 2. Prepare Data"
   ]
  },
  {
   "cell_type": "code",
   "execution_count": 9,
   "id": "b3f4b8fa-01d3-49fb-ba5b-1c181e426348",
   "metadata": {},
   "outputs": [
    {
     "name": "stdout",
     "output_type": "stream",
     "text": [
      "Date,Rented Bike Count,Hour,Temperature(�C),Humidity(%),Wind speed (m/s),Visibility (10m),Dew point temperature(�C),Solar Radiation (MJ/m2),Rainfall(mm),Snowfall (cm),Seasons,Holiday,Functioning Day\n",
      "01/12/2017,254,0,-5.2,37,2.2,2000,-17.6,0,0,0,Winter,No Holiday,Yes\n",
      "01/12/2017,204,1,-5.5,38,0.8,2000,-17.6,0,0,0,Winter,No Holiday,Yes\n",
      "01/12/2017,173,2,-6,39,1,2000,-17.7,0,0,0,Winter,No Holiday,Yes\n",
      "01/12/2017,107,3,-6.2,40,0.9,2000,-17.6,0,0,0,Winter,No Holiday,Yes\n",
      "01/12/2017,78,4,-6,36,2.3,2000,-18.6,0,0,0,Winter,No Holiday,Yes\n",
      "01/12/2017,100,5,-6.4,37,1.5,2000,-18.7,0,0,0,Winter,No Holiday,Yes\n",
      "01/12/2017,181,6,-6.6,35,1.3,2000,-19.5,0,0,0,Winter,No Holiday,Yes\n",
      "01/12/2017,460,7,-7.4,38,0.9,2000,-19.3,0,0,0,Winter,No Holiday,Yes\n",
      "01/12/2017,930,8,-7.6,37,1.1,2000,-19.8,0.01,0,0,Winter,No Holiday,Yes\n"
     ]
    }
   ],
   "source": [
    "!head -n 10 {raw_data}"
   ]
  },
  {
   "cell_type": "code",
   "execution_count": 10,
   "id": "6a793676-4abf-4ddc-9db9-62857fb48743",
   "metadata": {},
   "outputs": [
    {
     "data": {
      "text/html": [
       "<div>\n",
       "<style scoped>\n",
       "    .dataframe tbody tr th:only-of-type {\n",
       "        vertical-align: middle;\n",
       "    }\n",
       "\n",
       "    .dataframe tbody tr th {\n",
       "        vertical-align: top;\n",
       "    }\n",
       "\n",
       "    .dataframe thead th {\n",
       "        text-align: right;\n",
       "    }\n",
       "</style>\n",
       "<table border=\"1\" class=\"dataframe\">\n",
       "  <thead>\n",
       "    <tr style=\"text-align: right;\">\n",
       "      <th></th>\n",
       "      <th>Date</th>\n",
       "      <th>Rented Bike Count</th>\n",
       "      <th>Hour</th>\n",
       "      <th>Temperature(°C)</th>\n",
       "      <th>Humidity(%)</th>\n",
       "      <th>Wind speed (m/s)</th>\n",
       "      <th>Visibility (10m)</th>\n",
       "      <th>Dew point temperature(°C)</th>\n",
       "      <th>Solar Radiation (MJ/m2)</th>\n",
       "      <th>Rainfall(mm)</th>\n",
       "      <th>Snowfall (cm)</th>\n",
       "      <th>Seasons</th>\n",
       "      <th>Holiday</th>\n",
       "      <th>Functioning Day</th>\n",
       "    </tr>\n",
       "  </thead>\n",
       "  <tbody>\n",
       "    <tr>\n",
       "      <th>0</th>\n",
       "      <td>01/12/2017</td>\n",
       "      <td>254</td>\n",
       "      <td>0</td>\n",
       "      <td>-5.2</td>\n",
       "      <td>37</td>\n",
       "      <td>2.2</td>\n",
       "      <td>2000</td>\n",
       "      <td>-17.6</td>\n",
       "      <td>0.0</td>\n",
       "      <td>0.0</td>\n",
       "      <td>0.0</td>\n",
       "      <td>Winter</td>\n",
       "      <td>No Holiday</td>\n",
       "      <td>Yes</td>\n",
       "    </tr>\n",
       "    <tr>\n",
       "      <th>1</th>\n",
       "      <td>01/12/2017</td>\n",
       "      <td>204</td>\n",
       "      <td>1</td>\n",
       "      <td>-5.5</td>\n",
       "      <td>38</td>\n",
       "      <td>0.8</td>\n",
       "      <td>2000</td>\n",
       "      <td>-17.6</td>\n",
       "      <td>0.0</td>\n",
       "      <td>0.0</td>\n",
       "      <td>0.0</td>\n",
       "      <td>Winter</td>\n",
       "      <td>No Holiday</td>\n",
       "      <td>Yes</td>\n",
       "    </tr>\n",
       "    <tr>\n",
       "      <th>2</th>\n",
       "      <td>01/12/2017</td>\n",
       "      <td>173</td>\n",
       "      <td>2</td>\n",
       "      <td>-6.0</td>\n",
       "      <td>39</td>\n",
       "      <td>1.0</td>\n",
       "      <td>2000</td>\n",
       "      <td>-17.7</td>\n",
       "      <td>0.0</td>\n",
       "      <td>0.0</td>\n",
       "      <td>0.0</td>\n",
       "      <td>Winter</td>\n",
       "      <td>No Holiday</td>\n",
       "      <td>Yes</td>\n",
       "    </tr>\n",
       "    <tr>\n",
       "      <th>3</th>\n",
       "      <td>01/12/2017</td>\n",
       "      <td>107</td>\n",
       "      <td>3</td>\n",
       "      <td>-6.2</td>\n",
       "      <td>40</td>\n",
       "      <td>0.9</td>\n",
       "      <td>2000</td>\n",
       "      <td>-17.6</td>\n",
       "      <td>0.0</td>\n",
       "      <td>0.0</td>\n",
       "      <td>0.0</td>\n",
       "      <td>Winter</td>\n",
       "      <td>No Holiday</td>\n",
       "      <td>Yes</td>\n",
       "    </tr>\n",
       "    <tr>\n",
       "      <th>4</th>\n",
       "      <td>01/12/2017</td>\n",
       "      <td>78</td>\n",
       "      <td>4</td>\n",
       "      <td>-6.0</td>\n",
       "      <td>36</td>\n",
       "      <td>2.3</td>\n",
       "      <td>2000</td>\n",
       "      <td>-18.6</td>\n",
       "      <td>0.0</td>\n",
       "      <td>0.0</td>\n",
       "      <td>0.0</td>\n",
       "      <td>Winter</td>\n",
       "      <td>No Holiday</td>\n",
       "      <td>Yes</td>\n",
       "    </tr>\n",
       "  </tbody>\n",
       "</table>\n",
       "</div>"
      ],
      "text/plain": [
       "         Date  Rented Bike Count  Hour  Temperature(°C)  Humidity(%)  \\\n",
       "0  01/12/2017                254     0             -5.2           37   \n",
       "1  01/12/2017                204     1             -5.5           38   \n",
       "2  01/12/2017                173     2             -6.0           39   \n",
       "3  01/12/2017                107     3             -6.2           40   \n",
       "4  01/12/2017                 78     4             -6.0           36   \n",
       "\n",
       "   Wind speed (m/s)  Visibility (10m)  Dew point temperature(°C)  \\\n",
       "0               2.2              2000                      -17.6   \n",
       "1               0.8              2000                      -17.6   \n",
       "2               1.0              2000                      -17.7   \n",
       "3               0.9              2000                      -17.6   \n",
       "4               2.3              2000                      -18.6   \n",
       "\n",
       "   Solar Radiation (MJ/m2)  Rainfall(mm)  Snowfall (cm) Seasons     Holiday  \\\n",
       "0                      0.0           0.0            0.0  Winter  No Holiday   \n",
       "1                      0.0           0.0            0.0  Winter  No Holiday   \n",
       "2                      0.0           0.0            0.0  Winter  No Holiday   \n",
       "3                      0.0           0.0            0.0  Winter  No Holiday   \n",
       "4                      0.0           0.0            0.0  Winter  No Holiday   \n",
       "\n",
       "  Functioning Day  \n",
       "0             Yes  \n",
       "1             Yes  \n",
       "2             Yes  \n",
       "3             Yes  \n",
       "4             Yes  "
      ]
     },
     "execution_count": 10,
     "metadata": {},
     "output_type": "execute_result"
    }
   ],
   "source": [
    "data = pd.read_csv(raw_data, encoding='iso-8859-1')\n",
    "data.head()"
   ]
  },
  {
   "cell_type": "code",
   "execution_count": 11,
   "id": "16601dad-8637-4620-a9a1-858f74335c5c",
   "metadata": {},
   "outputs": [
    {
     "data": {
      "text/plain": [
       "Index(['Date', 'Rented Bike Count', 'Hour', 'Temperature(°C)', 'Humidity(%)',\n",
       "       'Wind speed (m/s)', 'Visibility (10m)', 'Dew point temperature(°C)',\n",
       "       'Solar Radiation (MJ/m2)', 'Rainfall(mm)', 'Snowfall (cm)', 'Seasons',\n",
       "       'Holiday', 'Functioning Day'],\n",
       "      dtype='object')"
      ]
     },
     "execution_count": 11,
     "metadata": {},
     "output_type": "execute_result"
    }
   ],
   "source": [
    "data.columns"
   ]
  },
  {
   "cell_type": "code",
   "execution_count": 12,
   "id": "d80c882e-4d4a-48ea-9bf5-80e0ecc2cf9c",
   "metadata": {},
   "outputs": [
    {
     "name": "stdout",
     "output_type": "stream",
     "text": [
      "<class 'pandas.core.frame.DataFrame'>\n",
      "RangeIndex: 8760 entries, 0 to 8759\n",
      "Data columns (total 14 columns):\n",
      " #   Column                     Non-Null Count  Dtype  \n",
      "---  ------                     --------------  -----  \n",
      " 0   Date                       8760 non-null   object \n",
      " 1   Rented Bike Count          8760 non-null   int64  \n",
      " 2   Hour                       8760 non-null   int64  \n",
      " 3   Temperature(°C)            8760 non-null   float64\n",
      " 4   Humidity(%)                8760 non-null   int64  \n",
      " 5   Wind speed (m/s)           8760 non-null   float64\n",
      " 6   Visibility (10m)           8760 non-null   int64  \n",
      " 7   Dew point temperature(°C)  8760 non-null   float64\n",
      " 8   Solar Radiation (MJ/m2)    8760 non-null   float64\n",
      " 9   Rainfall(mm)               8760 non-null   float64\n",
      " 10  Snowfall (cm)              8760 non-null   float64\n",
      " 11  Seasons                    8760 non-null   object \n",
      " 12  Holiday                    8760 non-null   object \n",
      " 13  Functioning Day            8760 non-null   object \n",
      "dtypes: float64(6), int64(4), object(4)\n",
      "memory usage: 958.2+ KB\n"
     ]
    }
   ],
   "source": [
    "data.info()"
   ]
  },
  {
   "cell_type": "code",
   "execution_count": 13,
   "id": "6bac6d4b-228e-4803-ab47-bc9414bb0e7b",
   "metadata": {},
   "outputs": [],
   "source": [
    "def clean_col_names(list_of_cols):\n",
    "    return [re.sub(r'[^a-zA-Z0-9\\s]', '', col).lower().replace(r\" \", \"_\") for col in list_of_cols]"
   ]
  },
  {
   "cell_type": "code",
   "execution_count": 14,
   "id": "47964b16-7cef-4324-89f8-955725b944ef",
   "metadata": {},
   "outputs": [
    {
     "data": {
      "text/plain": [
       "Index(['date', 'rented_bike_count', 'hour', 'temperaturec', 'humidity',\n",
       "       'wind_speed_ms', 'visibility_10m', 'dew_point_temperaturec',\n",
       "       'solar_radiation_mjm2', 'rainfallmm', 'snowfall_cm', 'seasons',\n",
       "       'holiday', 'functioning_day'],\n",
       "      dtype='object')"
      ]
     },
     "execution_count": 14,
     "metadata": {},
     "output_type": "execute_result"
    }
   ],
   "source": [
    "data.columns = clean_col_names(data.columns)\n",
    "data.columns"
   ]
  },
  {
   "cell_type": "code",
   "execution_count": 15,
   "id": "df74125e-deaa-4514-869a-c450639045f0",
   "metadata": {},
   "outputs": [
    {
     "data": {
      "text/html": [
       "<div>\n",
       "<style scoped>\n",
       "    .dataframe tbody tr th:only-of-type {\n",
       "        vertical-align: middle;\n",
       "    }\n",
       "\n",
       "    .dataframe tbody tr th {\n",
       "        vertical-align: top;\n",
       "    }\n",
       "\n",
       "    .dataframe thead th {\n",
       "        text-align: right;\n",
       "    }\n",
       "</style>\n",
       "<table border=\"1\" class=\"dataframe\">\n",
       "  <thead>\n",
       "    <tr style=\"text-align: right;\">\n",
       "      <th></th>\n",
       "      <th>date</th>\n",
       "      <th>rented_bike_count</th>\n",
       "      <th>hour</th>\n",
       "      <th>temperaturec</th>\n",
       "      <th>humidity</th>\n",
       "      <th>wind_speed_ms</th>\n",
       "      <th>visibility_10m</th>\n",
       "      <th>dew_point_temperaturec</th>\n",
       "      <th>solar_radiation_mjm2</th>\n",
       "      <th>rainfallmm</th>\n",
       "      <th>snowfall_cm</th>\n",
       "      <th>seasons</th>\n",
       "      <th>holiday</th>\n",
       "      <th>functioning_day</th>\n",
       "    </tr>\n",
       "  </thead>\n",
       "  <tbody>\n",
       "    <tr>\n",
       "      <th>8755</th>\n",
       "      <td>30/11/2018</td>\n",
       "      <td>1003</td>\n",
       "      <td>19</td>\n",
       "      <td>4.2</td>\n",
       "      <td>34</td>\n",
       "      <td>2.6</td>\n",
       "      <td>1894</td>\n",
       "      <td>-10.3</td>\n",
       "      <td>0.0</td>\n",
       "      <td>0.0</td>\n",
       "      <td>0.0</td>\n",
       "      <td>Autumn</td>\n",
       "      <td>No Holiday</td>\n",
       "      <td>Yes</td>\n",
       "    </tr>\n",
       "    <tr>\n",
       "      <th>8756</th>\n",
       "      <td>30/11/2018</td>\n",
       "      <td>764</td>\n",
       "      <td>20</td>\n",
       "      <td>3.4</td>\n",
       "      <td>37</td>\n",
       "      <td>2.3</td>\n",
       "      <td>2000</td>\n",
       "      <td>-9.9</td>\n",
       "      <td>0.0</td>\n",
       "      <td>0.0</td>\n",
       "      <td>0.0</td>\n",
       "      <td>Autumn</td>\n",
       "      <td>No Holiday</td>\n",
       "      <td>Yes</td>\n",
       "    </tr>\n",
       "    <tr>\n",
       "      <th>8757</th>\n",
       "      <td>30/11/2018</td>\n",
       "      <td>694</td>\n",
       "      <td>21</td>\n",
       "      <td>2.6</td>\n",
       "      <td>39</td>\n",
       "      <td>0.3</td>\n",
       "      <td>1968</td>\n",
       "      <td>-9.9</td>\n",
       "      <td>0.0</td>\n",
       "      <td>0.0</td>\n",
       "      <td>0.0</td>\n",
       "      <td>Autumn</td>\n",
       "      <td>No Holiday</td>\n",
       "      <td>Yes</td>\n",
       "    </tr>\n",
       "    <tr>\n",
       "      <th>8758</th>\n",
       "      <td>30/11/2018</td>\n",
       "      <td>712</td>\n",
       "      <td>22</td>\n",
       "      <td>2.1</td>\n",
       "      <td>41</td>\n",
       "      <td>1.0</td>\n",
       "      <td>1859</td>\n",
       "      <td>-9.8</td>\n",
       "      <td>0.0</td>\n",
       "      <td>0.0</td>\n",
       "      <td>0.0</td>\n",
       "      <td>Autumn</td>\n",
       "      <td>No Holiday</td>\n",
       "      <td>Yes</td>\n",
       "    </tr>\n",
       "    <tr>\n",
       "      <th>8759</th>\n",
       "      <td>30/11/2018</td>\n",
       "      <td>584</td>\n",
       "      <td>23</td>\n",
       "      <td>1.9</td>\n",
       "      <td>43</td>\n",
       "      <td>1.3</td>\n",
       "      <td>1909</td>\n",
       "      <td>-9.3</td>\n",
       "      <td>0.0</td>\n",
       "      <td>0.0</td>\n",
       "      <td>0.0</td>\n",
       "      <td>Autumn</td>\n",
       "      <td>No Holiday</td>\n",
       "      <td>Yes</td>\n",
       "    </tr>\n",
       "  </tbody>\n",
       "</table>\n",
       "</div>"
      ],
      "text/plain": [
       "            date  rented_bike_count  hour  temperaturec  humidity  \\\n",
       "8755  30/11/2018               1003    19           4.2        34   \n",
       "8756  30/11/2018                764    20           3.4        37   \n",
       "8757  30/11/2018                694    21           2.6        39   \n",
       "8758  30/11/2018                712    22           2.1        41   \n",
       "8759  30/11/2018                584    23           1.9        43   \n",
       "\n",
       "      wind_speed_ms  visibility_10m  dew_point_temperaturec  \\\n",
       "8755            2.6            1894                   -10.3   \n",
       "8756            2.3            2000                    -9.9   \n",
       "8757            0.3            1968                    -9.9   \n",
       "8758            1.0            1859                    -9.8   \n",
       "8759            1.3            1909                    -9.3   \n",
       "\n",
       "      solar_radiation_mjm2  rainfallmm  snowfall_cm seasons     holiday  \\\n",
       "8755                   0.0         0.0          0.0  Autumn  No Holiday   \n",
       "8756                   0.0         0.0          0.0  Autumn  No Holiday   \n",
       "8757                   0.0         0.0          0.0  Autumn  No Holiday   \n",
       "8758                   0.0         0.0          0.0  Autumn  No Holiday   \n",
       "8759                   0.0         0.0          0.0  Autumn  No Holiday   \n",
       "\n",
       "     functioning_day  \n",
       "8755             Yes  \n",
       "8756             Yes  \n",
       "8757             Yes  \n",
       "8758             Yes  \n",
       "8759             Yes  "
      ]
     },
     "execution_count": 15,
     "metadata": {},
     "output_type": "execute_result"
    }
   ],
   "source": [
    "data.tail()"
   ]
  },
  {
   "cell_type": "code",
   "execution_count": 16,
   "id": "b02f2dc6-8a08-47b2-b90c-c8a2ba293d28",
   "metadata": {},
   "outputs": [],
   "source": [
    "def extract_dates(data):\n",
    "    data['date'] = pd.to_datetime(data['date'], format=\"%d/%m/%Y\")\n",
    "    data.sort_values(['date', 'hour'], inplace=True)\n",
    "    data[\"year\"] = data['date'].dt.year\n",
    "    data[\"month\"] = data['date'].dt.month\n",
    "    data[\"week\"] = data['date'].dt.isocalendar().week\n",
    "    data[\"day\"] = data['date'].dt.day\n",
    "    data[\"day_of_week\"] = data['date'].dt.dayofweek\n",
    "    data[\"day_of_year\"] = data['date'].dt.dayofyear\n",
    "    data[\"is_month_end\"] = data['date'].dt.is_month_end\n",
    "    data[\"is_month_start\"] = data['date'].dt.is_month_start\n",
    "    data[\"is_quarter_end\"] = data['date'].dt.is_quarter_end\n",
    "    data[\"is_quarter_start\"] = data['date'].dt.is_quarter_start\n",
    "    data[\"is_year_end\"] = data['date'].dt.is_year_end\n",
    "    data[\"is_year_start\"] = data['date'].dt.is_year_start\n",
    "    data.drop('date', axis=1, inplace=True)\n",
    "    return data"
   ]
  },
  {
   "cell_type": "code",
   "execution_count": 17,
   "id": "b6445a31-1173-480a-8ab8-fae460548ae2",
   "metadata": {},
   "outputs": [],
   "source": [
    "data = extract_dates(data)"
   ]
  },
  {
   "cell_type": "code",
   "execution_count": 18,
   "id": "8b93031e-8615-4d7e-9c96-aea2c5d3281b",
   "metadata": {},
   "outputs": [
    {
     "data": {
      "text/html": [
       "<div>\n",
       "<style scoped>\n",
       "    .dataframe tbody tr th:only-of-type {\n",
       "        vertical-align: middle;\n",
       "    }\n",
       "\n",
       "    .dataframe tbody tr th {\n",
       "        vertical-align: top;\n",
       "    }\n",
       "\n",
       "    .dataframe thead th {\n",
       "        text-align: right;\n",
       "    }\n",
       "</style>\n",
       "<table border=\"1\" class=\"dataframe\">\n",
       "  <thead>\n",
       "    <tr style=\"text-align: right;\">\n",
       "      <th></th>\n",
       "      <th>rented_bike_count</th>\n",
       "      <th>hour</th>\n",
       "      <th>temperaturec</th>\n",
       "      <th>humidity</th>\n",
       "      <th>wind_speed_ms</th>\n",
       "      <th>visibility_10m</th>\n",
       "      <th>dew_point_temperaturec</th>\n",
       "      <th>solar_radiation_mjm2</th>\n",
       "      <th>rainfallmm</th>\n",
       "      <th>snowfall_cm</th>\n",
       "      <th>...</th>\n",
       "      <th>week</th>\n",
       "      <th>day</th>\n",
       "      <th>day_of_week</th>\n",
       "      <th>day_of_year</th>\n",
       "      <th>is_month_end</th>\n",
       "      <th>is_month_start</th>\n",
       "      <th>is_quarter_end</th>\n",
       "      <th>is_quarter_start</th>\n",
       "      <th>is_year_end</th>\n",
       "      <th>is_year_start</th>\n",
       "    </tr>\n",
       "  </thead>\n",
       "  <tbody>\n",
       "    <tr>\n",
       "      <th>0</th>\n",
       "      <td>254</td>\n",
       "      <td>0</td>\n",
       "      <td>-5.2</td>\n",
       "      <td>37</td>\n",
       "      <td>2.2</td>\n",
       "      <td>2000</td>\n",
       "      <td>-17.6</td>\n",
       "      <td>0.0</td>\n",
       "      <td>0.0</td>\n",
       "      <td>0.0</td>\n",
       "      <td>...</td>\n",
       "      <td>48</td>\n",
       "      <td>1</td>\n",
       "      <td>4</td>\n",
       "      <td>335</td>\n",
       "      <td>False</td>\n",
       "      <td>True</td>\n",
       "      <td>False</td>\n",
       "      <td>False</td>\n",
       "      <td>False</td>\n",
       "      <td>False</td>\n",
       "    </tr>\n",
       "    <tr>\n",
       "      <th>1</th>\n",
       "      <td>204</td>\n",
       "      <td>1</td>\n",
       "      <td>-5.5</td>\n",
       "      <td>38</td>\n",
       "      <td>0.8</td>\n",
       "      <td>2000</td>\n",
       "      <td>-17.6</td>\n",
       "      <td>0.0</td>\n",
       "      <td>0.0</td>\n",
       "      <td>0.0</td>\n",
       "      <td>...</td>\n",
       "      <td>48</td>\n",
       "      <td>1</td>\n",
       "      <td>4</td>\n",
       "      <td>335</td>\n",
       "      <td>False</td>\n",
       "      <td>True</td>\n",
       "      <td>False</td>\n",
       "      <td>False</td>\n",
       "      <td>False</td>\n",
       "      <td>False</td>\n",
       "    </tr>\n",
       "    <tr>\n",
       "      <th>2</th>\n",
       "      <td>173</td>\n",
       "      <td>2</td>\n",
       "      <td>-6.0</td>\n",
       "      <td>39</td>\n",
       "      <td>1.0</td>\n",
       "      <td>2000</td>\n",
       "      <td>-17.7</td>\n",
       "      <td>0.0</td>\n",
       "      <td>0.0</td>\n",
       "      <td>0.0</td>\n",
       "      <td>...</td>\n",
       "      <td>48</td>\n",
       "      <td>1</td>\n",
       "      <td>4</td>\n",
       "      <td>335</td>\n",
       "      <td>False</td>\n",
       "      <td>True</td>\n",
       "      <td>False</td>\n",
       "      <td>False</td>\n",
       "      <td>False</td>\n",
       "      <td>False</td>\n",
       "    </tr>\n",
       "    <tr>\n",
       "      <th>3</th>\n",
       "      <td>107</td>\n",
       "      <td>3</td>\n",
       "      <td>-6.2</td>\n",
       "      <td>40</td>\n",
       "      <td>0.9</td>\n",
       "      <td>2000</td>\n",
       "      <td>-17.6</td>\n",
       "      <td>0.0</td>\n",
       "      <td>0.0</td>\n",
       "      <td>0.0</td>\n",
       "      <td>...</td>\n",
       "      <td>48</td>\n",
       "      <td>1</td>\n",
       "      <td>4</td>\n",
       "      <td>335</td>\n",
       "      <td>False</td>\n",
       "      <td>True</td>\n",
       "      <td>False</td>\n",
       "      <td>False</td>\n",
       "      <td>False</td>\n",
       "      <td>False</td>\n",
       "    </tr>\n",
       "    <tr>\n",
       "      <th>4</th>\n",
       "      <td>78</td>\n",
       "      <td>4</td>\n",
       "      <td>-6.0</td>\n",
       "      <td>36</td>\n",
       "      <td>2.3</td>\n",
       "      <td>2000</td>\n",
       "      <td>-18.6</td>\n",
       "      <td>0.0</td>\n",
       "      <td>0.0</td>\n",
       "      <td>0.0</td>\n",
       "      <td>...</td>\n",
       "      <td>48</td>\n",
       "      <td>1</td>\n",
       "      <td>4</td>\n",
       "      <td>335</td>\n",
       "      <td>False</td>\n",
       "      <td>True</td>\n",
       "      <td>False</td>\n",
       "      <td>False</td>\n",
       "      <td>False</td>\n",
       "      <td>False</td>\n",
       "    </tr>\n",
       "  </tbody>\n",
       "</table>\n",
       "<p>5 rows × 25 columns</p>\n",
       "</div>"
      ],
      "text/plain": [
       "   rented_bike_count  hour  temperaturec  humidity  wind_speed_ms  \\\n",
       "0                254     0          -5.2        37            2.2   \n",
       "1                204     1          -5.5        38            0.8   \n",
       "2                173     2          -6.0        39            1.0   \n",
       "3                107     3          -6.2        40            0.9   \n",
       "4                 78     4          -6.0        36            2.3   \n",
       "\n",
       "   visibility_10m  dew_point_temperaturec  solar_radiation_mjm2  rainfallmm  \\\n",
       "0            2000                   -17.6                   0.0         0.0   \n",
       "1            2000                   -17.6                   0.0         0.0   \n",
       "2            2000                   -17.7                   0.0         0.0   \n",
       "3            2000                   -17.6                   0.0         0.0   \n",
       "4            2000                   -18.6                   0.0         0.0   \n",
       "\n",
       "   snowfall_cm  ... week day day_of_week  day_of_year  is_month_end  \\\n",
       "0          0.0  ...   48   1           4          335         False   \n",
       "1          0.0  ...   48   1           4          335         False   \n",
       "2          0.0  ...   48   1           4          335         False   \n",
       "3          0.0  ...   48   1           4          335         False   \n",
       "4          0.0  ...   48   1           4          335         False   \n",
       "\n",
       "   is_month_start  is_quarter_end  is_quarter_start  is_year_end  \\\n",
       "0            True           False             False        False   \n",
       "1            True           False             False        False   \n",
       "2            True           False             False        False   \n",
       "3            True           False             False        False   \n",
       "4            True           False             False        False   \n",
       "\n",
       "   is_year_start  \n",
       "0          False  \n",
       "1          False  \n",
       "2          False  \n",
       "3          False  \n",
       "4          False  \n",
       "\n",
       "[5 rows x 25 columns]"
      ]
     },
     "execution_count": 18,
     "metadata": {},
     "output_type": "execute_result"
    }
   ],
   "source": [
    "data.head()"
   ]
  },
  {
   "cell_type": "code",
   "execution_count": 19,
   "id": "ab954956-edc2-40b1-a13b-67e0cc765c24",
   "metadata": {},
   "outputs": [],
   "source": [
    "data_interim = join(path, \"interim\", \"clean_data.parquet\")"
   ]
  },
  {
   "cell_type": "code",
   "execution_count": 20,
   "id": "499685ee-e3a2-4080-8f8f-900f8dd4f904",
   "metadata": {},
   "outputs": [
    {
     "data": {
      "text/html": [
       "<div>\n",
       "<style scoped>\n",
       "    .dataframe tbody tr th:only-of-type {\n",
       "        vertical-align: middle;\n",
       "    }\n",
       "\n",
       "    .dataframe tbody tr th {\n",
       "        vertical-align: top;\n",
       "    }\n",
       "\n",
       "    .dataframe thead th {\n",
       "        text-align: right;\n",
       "    }\n",
       "</style>\n",
       "<table border=\"1\" class=\"dataframe\">\n",
       "  <thead>\n",
       "    <tr style=\"text-align: right;\">\n",
       "      <th></th>\n",
       "      <th>holiday</th>\n",
       "      <th>seasons</th>\n",
       "      <th>functioning_day</th>\n",
       "    </tr>\n",
       "  </thead>\n",
       "  <tbody>\n",
       "    <tr>\n",
       "      <th>0</th>\n",
       "      <td>No Holiday</td>\n",
       "      <td>Winter</td>\n",
       "      <td>Yes</td>\n",
       "    </tr>\n",
       "    <tr>\n",
       "      <th>1</th>\n",
       "      <td>No Holiday</td>\n",
       "      <td>Winter</td>\n",
       "      <td>Yes</td>\n",
       "    </tr>\n",
       "    <tr>\n",
       "      <th>2</th>\n",
       "      <td>No Holiday</td>\n",
       "      <td>Winter</td>\n",
       "      <td>Yes</td>\n",
       "    </tr>\n",
       "    <tr>\n",
       "      <th>3</th>\n",
       "      <td>No Holiday</td>\n",
       "      <td>Winter</td>\n",
       "      <td>Yes</td>\n",
       "    </tr>\n",
       "    <tr>\n",
       "      <th>4</th>\n",
       "      <td>No Holiday</td>\n",
       "      <td>Winter</td>\n",
       "      <td>Yes</td>\n",
       "    </tr>\n",
       "  </tbody>\n",
       "</table>\n",
       "</div>"
      ],
      "text/plain": [
       "      holiday seasons functioning_day\n",
       "0  No Holiday  Winter             Yes\n",
       "1  No Holiday  Winter             Yes\n",
       "2  No Holiday  Winter             Yes\n",
       "3  No Holiday  Winter             Yes\n",
       "4  No Holiday  Winter             Yes"
      ]
     },
     "execution_count": 20,
     "metadata": {},
     "output_type": "execute_result"
    }
   ],
   "source": [
    "data[['holiday', 'seasons', 'functioning_day']].head()"
   ]
  },
  {
   "cell_type": "code",
   "execution_count": 21,
   "id": "6303f927-0c68-442c-a2fa-76960f7224f0",
   "metadata": {},
   "outputs": [],
   "source": [
    "data = pd.get_dummies(data=data, columns=['holiday', 'seasons', 'functioning_day'])"
   ]
  },
  {
   "cell_type": "code",
   "execution_count": 22,
   "id": "62be1292-ba22-431f-a91d-cedc599ea999",
   "metadata": {},
   "outputs": [
    {
     "data": {
      "text/html": [
       "<div>\n",
       "<style scoped>\n",
       "    .dataframe tbody tr th:only-of-type {\n",
       "        vertical-align: middle;\n",
       "    }\n",
       "\n",
       "    .dataframe tbody tr th {\n",
       "        vertical-align: top;\n",
       "    }\n",
       "\n",
       "    .dataframe thead th {\n",
       "        text-align: right;\n",
       "    }\n",
       "</style>\n",
       "<table border=\"1\" class=\"dataframe\">\n",
       "  <thead>\n",
       "    <tr style=\"text-align: right;\">\n",
       "      <th></th>\n",
       "      <th>rented_bike_count</th>\n",
       "      <th>hour</th>\n",
       "      <th>temperaturec</th>\n",
       "      <th>humidity</th>\n",
       "      <th>wind_speed_ms</th>\n",
       "      <th>visibility_10m</th>\n",
       "      <th>dew_point_temperaturec</th>\n",
       "      <th>solar_radiation_mjm2</th>\n",
       "      <th>rainfallmm</th>\n",
       "      <th>snowfall_cm</th>\n",
       "      <th>...</th>\n",
       "      <th>is_year_end</th>\n",
       "      <th>is_year_start</th>\n",
       "      <th>holiday_Holiday</th>\n",
       "      <th>holiday_No Holiday</th>\n",
       "      <th>seasons_Autumn</th>\n",
       "      <th>seasons_Spring</th>\n",
       "      <th>seasons_Summer</th>\n",
       "      <th>seasons_Winter</th>\n",
       "      <th>functioning_day_No</th>\n",
       "      <th>functioning_day_Yes</th>\n",
       "    </tr>\n",
       "  </thead>\n",
       "  <tbody>\n",
       "    <tr>\n",
       "      <th>0</th>\n",
       "      <td>254</td>\n",
       "      <td>0</td>\n",
       "      <td>-5.2</td>\n",
       "      <td>37</td>\n",
       "      <td>2.2</td>\n",
       "      <td>2000</td>\n",
       "      <td>-17.6</td>\n",
       "      <td>0.0</td>\n",
       "      <td>0.0</td>\n",
       "      <td>0.0</td>\n",
       "      <td>...</td>\n",
       "      <td>False</td>\n",
       "      <td>False</td>\n",
       "      <td>0</td>\n",
       "      <td>1</td>\n",
       "      <td>0</td>\n",
       "      <td>0</td>\n",
       "      <td>0</td>\n",
       "      <td>1</td>\n",
       "      <td>0</td>\n",
       "      <td>1</td>\n",
       "    </tr>\n",
       "    <tr>\n",
       "      <th>1</th>\n",
       "      <td>204</td>\n",
       "      <td>1</td>\n",
       "      <td>-5.5</td>\n",
       "      <td>38</td>\n",
       "      <td>0.8</td>\n",
       "      <td>2000</td>\n",
       "      <td>-17.6</td>\n",
       "      <td>0.0</td>\n",
       "      <td>0.0</td>\n",
       "      <td>0.0</td>\n",
       "      <td>...</td>\n",
       "      <td>False</td>\n",
       "      <td>False</td>\n",
       "      <td>0</td>\n",
       "      <td>1</td>\n",
       "      <td>0</td>\n",
       "      <td>0</td>\n",
       "      <td>0</td>\n",
       "      <td>1</td>\n",
       "      <td>0</td>\n",
       "      <td>1</td>\n",
       "    </tr>\n",
       "    <tr>\n",
       "      <th>2</th>\n",
       "      <td>173</td>\n",
       "      <td>2</td>\n",
       "      <td>-6.0</td>\n",
       "      <td>39</td>\n",
       "      <td>1.0</td>\n",
       "      <td>2000</td>\n",
       "      <td>-17.7</td>\n",
       "      <td>0.0</td>\n",
       "      <td>0.0</td>\n",
       "      <td>0.0</td>\n",
       "      <td>...</td>\n",
       "      <td>False</td>\n",
       "      <td>False</td>\n",
       "      <td>0</td>\n",
       "      <td>1</td>\n",
       "      <td>0</td>\n",
       "      <td>0</td>\n",
       "      <td>0</td>\n",
       "      <td>1</td>\n",
       "      <td>0</td>\n",
       "      <td>1</td>\n",
       "    </tr>\n",
       "    <tr>\n",
       "      <th>3</th>\n",
       "      <td>107</td>\n",
       "      <td>3</td>\n",
       "      <td>-6.2</td>\n",
       "      <td>40</td>\n",
       "      <td>0.9</td>\n",
       "      <td>2000</td>\n",
       "      <td>-17.6</td>\n",
       "      <td>0.0</td>\n",
       "      <td>0.0</td>\n",
       "      <td>0.0</td>\n",
       "      <td>...</td>\n",
       "      <td>False</td>\n",
       "      <td>False</td>\n",
       "      <td>0</td>\n",
       "      <td>1</td>\n",
       "      <td>0</td>\n",
       "      <td>0</td>\n",
       "      <td>0</td>\n",
       "      <td>1</td>\n",
       "      <td>0</td>\n",
       "      <td>1</td>\n",
       "    </tr>\n",
       "    <tr>\n",
       "      <th>4</th>\n",
       "      <td>78</td>\n",
       "      <td>4</td>\n",
       "      <td>-6.0</td>\n",
       "      <td>36</td>\n",
       "      <td>2.3</td>\n",
       "      <td>2000</td>\n",
       "      <td>-18.6</td>\n",
       "      <td>0.0</td>\n",
       "      <td>0.0</td>\n",
       "      <td>0.0</td>\n",
       "      <td>...</td>\n",
       "      <td>False</td>\n",
       "      <td>False</td>\n",
       "      <td>0</td>\n",
       "      <td>1</td>\n",
       "      <td>0</td>\n",
       "      <td>0</td>\n",
       "      <td>0</td>\n",
       "      <td>1</td>\n",
       "      <td>0</td>\n",
       "      <td>1</td>\n",
       "    </tr>\n",
       "  </tbody>\n",
       "</table>\n",
       "<p>5 rows × 30 columns</p>\n",
       "</div>"
      ],
      "text/plain": [
       "   rented_bike_count  hour  temperaturec  humidity  wind_speed_ms  \\\n",
       "0                254     0          -5.2        37            2.2   \n",
       "1                204     1          -5.5        38            0.8   \n",
       "2                173     2          -6.0        39            1.0   \n",
       "3                107     3          -6.2        40            0.9   \n",
       "4                 78     4          -6.0        36            2.3   \n",
       "\n",
       "   visibility_10m  dew_point_temperaturec  solar_radiation_mjm2  rainfallmm  \\\n",
       "0            2000                   -17.6                   0.0         0.0   \n",
       "1            2000                   -17.6                   0.0         0.0   \n",
       "2            2000                   -17.7                   0.0         0.0   \n",
       "3            2000                   -17.6                   0.0         0.0   \n",
       "4            2000                   -18.6                   0.0         0.0   \n",
       "\n",
       "   snowfall_cm  ...  is_year_end  is_year_start  holiday_Holiday  \\\n",
       "0          0.0  ...        False          False                0   \n",
       "1          0.0  ...        False          False                0   \n",
       "2          0.0  ...        False          False                0   \n",
       "3          0.0  ...        False          False                0   \n",
       "4          0.0  ...        False          False                0   \n",
       "\n",
       "   holiday_No Holiday  seasons_Autumn  seasons_Spring  seasons_Summer  \\\n",
       "0                   1               0               0               0   \n",
       "1                   1               0               0               0   \n",
       "2                   1               0               0               0   \n",
       "3                   1               0               0               0   \n",
       "4                   1               0               0               0   \n",
       "\n",
       "   seasons_Winter  functioning_day_No  functioning_day_Yes  \n",
       "0               1                   0                    1  \n",
       "1               1                   0                    1  \n",
       "2               1                   0                    1  \n",
       "3               1                   0                    1  \n",
       "4               1                   0                    1  \n",
       "\n",
       "[5 rows x 30 columns]"
      ]
     },
     "execution_count": 22,
     "metadata": {},
     "output_type": "execute_result"
    }
   ],
   "source": [
    "data.head()"
   ]
  },
  {
   "cell_type": "code",
   "execution_count": 23,
   "id": "60c36bb3-9cbb-464e-a4e2-21f84d34c11e",
   "metadata": {},
   "outputs": [],
   "source": [
    "data.to_parquet(data_interim, compression=\"snappy\")"
   ]
  },
  {
   "cell_type": "markdown",
   "id": "397592c3-d9e8-4cab-a513-6de4292d03cf",
   "metadata": {},
   "source": [
    "### Loading Data with AWS Python SDK"
   ]
  },
  {
   "cell_type": "code",
   "execution_count": 25,
   "id": "90d424a9-4140-485c-8fac-c74f1e2b2bb2",
   "metadata": {},
   "outputs": [],
   "source": [
    "import boto3\n",
    "from pprint import pprint"
   ]
  },
  {
   "cell_type": "code",
   "execution_count": 26,
   "id": "ac99a632-0b11-4595-9d79-8b5017f98ca1",
   "metadata": {},
   "outputs": [],
   "source": [
    "s3_client = boto3.client('s3')"
   ]
  },
  {
   "cell_type": "code",
   "execution_count": 27,
   "id": "70b8086e-fe9f-4a03-9dae-adc601fbc9cf",
   "metadata": {},
   "outputs": [
    {
     "name": "stdout",
     "output_type": "stream",
     "text": [
      "{'Buckets': [{'CreationDate': datetime.datetime(2022, 7, 17, 21, 50, 3, tzinfo=tzlocal()),\n",
      "              'Name': 'sagemaker-studio-007364072835-20kgweknjbe'},\n",
      "             {'CreationDate': datetime.datetime(2022, 7, 17, 23, 29, 51, tzinfo=tzlocal()),\n",
      "              'Name': 'sagemaker-studio-007364072835-hwxvwzewhpq'},\n",
      "             {'CreationDate': datetime.datetime(2022, 9, 12, 14, 4, 31, tzinfo=tzlocal()),\n",
      "              'Name': 'september22-workshop'},\n",
      "             {'CreationDate': datetime.datetime(2022, 5, 12, 21, 20, 8, tzinfo=tzlocal()),\n",
      "              'Name': 'testing-012345'},\n",
      "             {'CreationDate': datetime.datetime(2022, 9, 11, 21, 51, 12, tzinfo=tzlocal()),\n",
      "              'Name': 'testing-aws-4-decd'}],\n",
      " 'Owner': {'ID': '7c268a684733d1b8292a935004a1ccd6336186efd4d9c1a6d3e94f7718484579'},\n",
      " 'ResponseMetadata': {'HTTPHeaders': {'content-type': 'application/xml',\n",
      "                                      'date': 'Mon, 12 Sep 2022 14:39:06 GMT',\n",
      "                                      'server': 'AmazonS3',\n",
      "                                      'transfer-encoding': 'chunked',\n",
      "                                      'x-amz-id-2': 'V5VT1frA7WDXdDDc5Oaw1qe3W62wSOPgYrXoJdpLWjvhqfuZd3Eo/fmLi7zQutr7VqMPbdUU6d8=',\n",
      "                                      'x-amz-request-id': '4Y7GXA6GZVN13RFJ'},\n",
      "                      'HTTPStatusCode': 200,\n",
      "                      'HostId': 'V5VT1frA7WDXdDDc5Oaw1qe3W62wSOPgYrXoJdpLWjvhqfuZd3Eo/fmLi7zQutr7VqMPbdUU6d8=',\n",
      "                      'RequestId': '4Y7GXA6GZVN13RFJ',\n",
      "                      'RetryAttempts': 0}}\n"
     ]
    }
   ],
   "source": [
    "pprint(s3_client.list_buckets())"
   ]
  },
  {
   "cell_type": "code",
   "execution_count": 30,
   "id": "4b2c0f61-9efa-4044-be24-d4be01ceaa6a",
   "metadata": {},
   "outputs": [
    {
     "name": "stdout",
     "output_type": "stream",
     "text": [
      "'september22-workshop'\n"
     ]
    }
   ],
   "source": [
    "pprint(s3_client.list_buckets()[\"Buckets\"][2][\"Name\"])"
   ]
  },
  {
   "cell_type": "code",
   "execution_count": 31,
   "id": "6cfb0082-4991-4b72-b6d7-bbb855ba5b6f",
   "metadata": {},
   "outputs": [
    {
     "data": {
      "text/plain": [
       "'../data/interim/clean_data.parquet'"
      ]
     },
     "execution_count": 31,
     "metadata": {},
     "output_type": "execute_result"
    }
   ],
   "source": [
    "data_interim"
   ]
  },
  {
   "cell_type": "code",
   "execution_count": 32,
   "id": "522c349e-a871-4851-995c-ee83963dcd89",
   "metadata": {},
   "outputs": [],
   "source": [
    "s3_client.upload_file(data_interim, \"september22-workshop\", \"interim/clean_data.parquet\")"
   ]
  },
  {
   "cell_type": "code",
   "execution_count": 33,
   "id": "5f0c398b-6074-4e75-9ac0-02469670a4c4",
   "metadata": {},
   "outputs": [
    {
     "name": "stdout",
     "output_type": "stream",
     "text": [
      "Writing ../src/prepare.py\n"
     ]
    }
   ],
   "source": [
    "%%writefile ../src/prepare.py\n",
    "\n",
    "import pandas as pd, os, sys, re\n",
    "\n",
    "raw_data = os.path.join(\"data\", 'raw', \"SeoulBikeData.csv\")\n",
    "data_interim = os.path.join(\"data\", \"interim\", \"clean_data.parquet\")\n",
    "\n",
    "data = pd.read_csv(raw_data, encoding='iso-8859-1')\n",
    "\n",
    "def clean_col_names(list_of_cols):\n",
    "    return [re.sub(r'[^a-zA-Z0-9\\s]', '', col).lower().replace(r\" \", \"_\") for col in list_of_cols]\n",
    "\n",
    "def extract_dates(data):\n",
    "    data['date'] = pd.to_datetime(data['date'], format=\"%d/%m/%Y\")\n",
    "    data.sort_values(['date', 'hour'], inplace=True)\n",
    "    data[\"year\"] = data['date'].dt.year\n",
    "    data[\"month\"] = data['date'].dt.month\n",
    "    data[\"week\"] = data['date'].dt.isocalendar().week\n",
    "    data[\"day\"] = data['date'].dt.day\n",
    "    data[\"day_of_week\"] = data['date'].dt.dayofweek\n",
    "    data[\"day_of_year\"] = data['date'].dt.dayofyear\n",
    "    data[\"is_month_end\"] = data['date'].dt.is_month_end\n",
    "    data[\"is_month_start\"] = data['date'].dt.is_month_start\n",
    "    data[\"is_quarter_end\"] = data['date'].dt.is_quarter_end\n",
    "    data[\"is_quarter_start\"] = data['date'].dt.is_quarter_start\n",
    "    data[\"is_year_end\"] = data['date'].dt.is_year_end\n",
    "    data[\"is_year_start\"] = data['date'].dt.is_year_start\n",
    "    data.drop('date', axis=1, inplace=True)\n",
    "    return data\n",
    "\n",
    "data.columns = clean_col_names(data.columns)\n",
    "data = extract_dates(data)\n",
    "data = pd.get_dummies(data=data, columns=['holiday', 'seasons', 'functioning_day'])\n",
    "data.to_parquet(data_interim, compression=\"snappy\")\n",
    "print(\"File Cleaned Successfully!\")"
   ]
  },
  {
   "cell_type": "markdown",
   "id": "d96ffa33-c6d5-4b99-807b-67f99b4b7d86",
   "metadata": {},
   "source": [
    "## 3. Split Data"
   ]
  },
  {
   "cell_type": "code",
   "execution_count": 34,
   "id": "120ac6c8-7264-4f7e-a065-403108b422d6",
   "metadata": {},
   "outputs": [],
   "source": [
    "split = 0.30\n",
    "n_train = int(len(data) - len(data) * split)"
   ]
  },
  {
   "cell_type": "code",
   "execution_count": 35,
   "id": "1eb9d5f5-0edb-4ece-94e1-45646b3683ae",
   "metadata": {},
   "outputs": [],
   "source": [
    "train_path = join(path, 'processed', 'train.parquet')\n",
    "test_path = join(path, 'processed', 'test.parquet')"
   ]
  },
  {
   "cell_type": "code",
   "execution_count": 36,
   "id": "61395efc-817f-4aed-889a-3d277e308fa8",
   "metadata": {},
   "outputs": [],
   "source": [
    "data[:n_train].reset_index(drop=True).to_parquet(train_path, compression=\"snappy\")\n",
    "data[n_train:].reset_index(drop=True).to_parquet(test_path, compression=\"snappy\")"
   ]
  },
  {
   "cell_type": "code",
   "execution_count": 37,
   "id": "0ee222c5-7a48-4f4b-85d4-270bfedc8f71",
   "metadata": {},
   "outputs": [
    {
     "name": "stdout",
     "output_type": "stream",
     "text": [
      "Writing ../src/split_data.py\n"
     ]
    }
   ],
   "source": [
    "%%writefile ../src/split_data.py\n",
    "\n",
    "import pandas as pd, os\n",
    "\n",
    "data_interim = os.path.join(\"data\", \"interim\", \"clean_data.parquet\")\n",
    "train_path = os.path.join(\"data\", 'processed', 'train.parquet')\n",
    "test_path = os.path.join(\"data\", 'processed', 'test.parquet')\n",
    "\n",
    "data = pd.read_parquet(data_interim)\n",
    "\n",
    "split = 0.30\n",
    "n_train = int(len(data) - len(data) * split)\n",
    "\n",
    "data[:n_train].reset_index(drop=True).to_parquet(train_path, compression=\"snappy\")\n",
    "data[n_train:].reset_index(drop=True).to_parquet(test_path, compression=\"snappy\")\n",
    "\n",
    "print(\"File Partitioned Successfully!\")"
   ]
  },
  {
   "cell_type": "markdown",
   "id": "279fe837-73b7-4ad1-bb34-6570b104bd54",
   "metadata": {},
   "source": [
    "## 4. Train Model"
   ]
  },
  {
   "cell_type": "code",
   "execution_count": 38,
   "id": "a6d199b8-8a12-4e0d-a212-ba039af91df6",
   "metadata": {},
   "outputs": [],
   "source": [
    "X_train = pd.read_parquet(train_path)\n",
    "y_train = X_train.pop('rented_bike_count')"
   ]
  },
  {
   "cell_type": "code",
   "execution_count": 39,
   "id": "268c46dc-c506-406f-a4a4-4b5c892713be",
   "metadata": {},
   "outputs": [],
   "source": [
    "seed = 42\n",
    "n_est = 100"
   ]
  },
  {
   "cell_type": "code",
   "execution_count": 40,
   "id": "23dd0d8a-46a9-4aa1-8f9d-f6aa5a78f306",
   "metadata": {},
   "outputs": [
    {
     "name": "stdout",
     "output_type": "stream",
     "text": [
      "CPU times: user 3.66 s, sys: 5.22 ms, total: 3.67 s\n",
      "Wall time: 3.69 s\n"
     ]
    },
    {
     "data": {
      "text/html": [
       "<style>#sk-container-id-1 {color: black;background-color: white;}#sk-container-id-1 pre{padding: 0;}#sk-container-id-1 div.sk-toggleable {background-color: white;}#sk-container-id-1 label.sk-toggleable__label {cursor: pointer;display: block;width: 100%;margin-bottom: 0;padding: 0.3em;box-sizing: border-box;text-align: center;}#sk-container-id-1 label.sk-toggleable__label-arrow:before {content: \"▸\";float: left;margin-right: 0.25em;color: #696969;}#sk-container-id-1 label.sk-toggleable__label-arrow:hover:before {color: black;}#sk-container-id-1 div.sk-estimator:hover label.sk-toggleable__label-arrow:before {color: black;}#sk-container-id-1 div.sk-toggleable__content {max-height: 0;max-width: 0;overflow: hidden;text-align: left;background-color: #f0f8ff;}#sk-container-id-1 div.sk-toggleable__content pre {margin: 0.2em;color: black;border-radius: 0.25em;background-color: #f0f8ff;}#sk-container-id-1 input.sk-toggleable__control:checked~div.sk-toggleable__content {max-height: 200px;max-width: 100%;overflow: auto;}#sk-container-id-1 input.sk-toggleable__control:checked~label.sk-toggleable__label-arrow:before {content: \"▾\";}#sk-container-id-1 div.sk-estimator input.sk-toggleable__control:checked~label.sk-toggleable__label {background-color: #d4ebff;}#sk-container-id-1 div.sk-label input.sk-toggleable__control:checked~label.sk-toggleable__label {background-color: #d4ebff;}#sk-container-id-1 input.sk-hidden--visually {border: 0;clip: rect(1px 1px 1px 1px);clip: rect(1px, 1px, 1px, 1px);height: 1px;margin: -1px;overflow: hidden;padding: 0;position: absolute;width: 1px;}#sk-container-id-1 div.sk-estimator {font-family: monospace;background-color: #f0f8ff;border: 1px dotted black;border-radius: 0.25em;box-sizing: border-box;margin-bottom: 0.5em;}#sk-container-id-1 div.sk-estimator:hover {background-color: #d4ebff;}#sk-container-id-1 div.sk-parallel-item::after {content: \"\";width: 100%;border-bottom: 1px solid gray;flex-grow: 1;}#sk-container-id-1 div.sk-label:hover label.sk-toggleable__label {background-color: #d4ebff;}#sk-container-id-1 div.sk-serial::before {content: \"\";position: absolute;border-left: 1px solid gray;box-sizing: border-box;top: 0;bottom: 0;left: 50%;z-index: 0;}#sk-container-id-1 div.sk-serial {display: flex;flex-direction: column;align-items: center;background-color: white;padding-right: 0.2em;padding-left: 0.2em;position: relative;}#sk-container-id-1 div.sk-item {position: relative;z-index: 1;}#sk-container-id-1 div.sk-parallel {display: flex;align-items: stretch;justify-content: center;background-color: white;position: relative;}#sk-container-id-1 div.sk-item::before, #sk-container-id-1 div.sk-parallel-item::before {content: \"\";position: absolute;border-left: 1px solid gray;box-sizing: border-box;top: 0;bottom: 0;left: 50%;z-index: -1;}#sk-container-id-1 div.sk-parallel-item {display: flex;flex-direction: column;z-index: 1;position: relative;background-color: white;}#sk-container-id-1 div.sk-parallel-item:first-child::after {align-self: flex-end;width: 50%;}#sk-container-id-1 div.sk-parallel-item:last-child::after {align-self: flex-start;width: 50%;}#sk-container-id-1 div.sk-parallel-item:only-child::after {width: 0;}#sk-container-id-1 div.sk-dashed-wrapped {border: 1px dashed gray;margin: 0 0.4em 0.5em 0.4em;box-sizing: border-box;padding-bottom: 0.4em;background-color: white;}#sk-container-id-1 div.sk-label label {font-family: monospace;font-weight: bold;display: inline-block;line-height: 1.2em;}#sk-container-id-1 div.sk-label-container {text-align: center;}#sk-container-id-1 div.sk-container {/* jupyter's `normalize.less` sets `[hidden] { display: none; }` but bootstrap.min.css set `[hidden] { display: none !important; }` so we also need the `!important` here to be able to override the default hidden behavior on the sphinx rendered scikit-learn.org. See: https://github.com/scikit-learn/scikit-learn/issues/21755 */display: inline-block !important;position: relative;}#sk-container-id-1 div.sk-text-repr-fallback {display: none;}</style><div id=\"sk-container-id-1\" class=\"sk-top-container\"><div class=\"sk-text-repr-fallback\"><pre>RandomForestRegressor(random_state=42)</pre><b>In a Jupyter environment, please rerun this cell to show the HTML representation or trust the notebook. <br />On GitHub, the HTML representation is unable to render, please try loading this page with nbviewer.org.</b></div><div class=\"sk-container\" hidden><div class=\"sk-item\"><div class=\"sk-estimator sk-toggleable\"><input class=\"sk-toggleable__control sk-hidden--visually\" id=\"sk-estimator-id-1\" type=\"checkbox\" checked><label for=\"sk-estimator-id-1\" class=\"sk-toggleable__label sk-toggleable__label-arrow\">RandomForestRegressor</label><div class=\"sk-toggleable__content\"><pre>RandomForestRegressor(random_state=42)</pre></div></div></div></div></div>"
      ],
      "text/plain": [
       "RandomForestRegressor(random_state=42)"
      ]
     },
     "execution_count": 40,
     "metadata": {},
     "output_type": "execute_result"
    }
   ],
   "source": [
    "%%time\n",
    "\n",
    "rf = RandomForestRegressor(n_estimators=n_est, random_state=seed)\n",
    "rf.fit(X_train.values, y_train.values)"
   ]
  },
  {
   "cell_type": "code",
   "execution_count": 41,
   "id": "1067c330-21be-4b75-8078-c4a89bcd7b54",
   "metadata": {},
   "outputs": [
    {
     "data": {
      "text/plain": [
       "array([236.39, 216.06, 159.82, 102.32,  80.01,  91.96, 166.18, 422.35,\n",
       "       843.38, 447.64])"
      ]
     },
     "execution_count": 41,
     "metadata": {},
     "output_type": "execute_result"
    }
   ],
   "source": [
    "rf.predict(X_train.values)[:10]"
   ]
  },
  {
   "cell_type": "code",
   "execution_count": 42,
   "id": "08a3b86d-a843-4c59-b80c-e1308c61c9eb",
   "metadata": {},
   "outputs": [],
   "source": [
    "with open('../models/rf_model.pkl', \"wb\") as fd:\n",
    "    pickle.dump(rf, fd)"
   ]
  },
  {
   "cell_type": "code",
   "execution_count": 43,
   "id": "28c1807d-f3d3-43d1-af93-1a3c52411717",
   "metadata": {},
   "outputs": [],
   "source": [
    "s3_client.upload_file('../models/rf_model.pkl', \"september22-workshop\", \"models/rf_model.pkl\")"
   ]
  },
  {
   "cell_type": "code",
   "execution_count": 50,
   "id": "933829d2-bb4a-4482-ad5c-3dbaaecb7497",
   "metadata": {},
   "outputs": [
    {
     "name": "stdout",
     "output_type": "stream",
     "text": [
      "Overwriting ../src/train_model.py\n"
     ]
    }
   ],
   "source": [
    "%%writefile ../src/train_model.py\n",
    "\n",
    "import pandas as pd, os, numpy as np, pickle\n",
    "from sklearn.ensemble import RandomForestRegressor\n",
    "\n",
    "train_path = os.path.join(\"data\", 'processed', 'train.parquet')\n",
    "\n",
    "X_train = pd.read_parquet(train_path)\n",
    "y_train = X_train.pop('rented_bike_count')\n",
    "\n",
    "seed = 42\n",
    "n_est = 100\n",
    "\n",
    "rf = RandomForestRegressor(n_estimators=n_est, random_state=seed)\n",
    "rf.fit(X_train.values, y_train.values)\n",
    "\n",
    "with open(os.path.join('models', 'rf_model.pkl'), \"wb\") as fd:\n",
    "    pickle.dump(rf, fd)\n",
    "    \n",
    "print(\"File Trained Successfully!\")"
   ]
  },
  {
   "cell_type": "markdown",
   "id": "9b01e0c7-9517-433a-bc92-ffb83338a793",
   "metadata": {},
   "source": [
    "## 5. Evaluate"
   ]
  },
  {
   "cell_type": "code",
   "execution_count": 45,
   "id": "e6d5d725-a19e-4e0e-a05d-34f3d18c2529",
   "metadata": {},
   "outputs": [],
   "source": [
    "with open('../models/rf_model.pkl', \"rb\") as fd:\n",
    "    model = pickle.load(fd)"
   ]
  },
  {
   "cell_type": "code",
   "execution_count": 46,
   "id": "34903e4a-4d6b-4dc6-ad69-06505bd17ba2",
   "metadata": {},
   "outputs": [],
   "source": [
    "X_test = pd.read_parquet(test_path)\n",
    "y_test = X_test.pop('rented_bike_count')"
   ]
  },
  {
   "cell_type": "code",
   "execution_count": 47,
   "id": "2118b87e-35cb-43a4-9c84-18f908af8c86",
   "metadata": {},
   "outputs": [
    {
     "data": {
      "text/plain": [
       "array([ 701.82,  711.5 ,  674.75,  722.74,  879.71, 1303.26, 2228.5 ,\n",
       "       1901.35, 1787.42, 1761.24])"
      ]
     },
     "execution_count": 47,
     "metadata": {},
     "output_type": "execute_result"
    }
   ],
   "source": [
    "predictions = model.predict(X_test.values)\n",
    "predictions[:10]"
   ]
  },
  {
   "cell_type": "code",
   "execution_count": 48,
   "id": "03fa6fe7-3eaf-483b-8c8b-a1b385ddf74b",
   "metadata": {},
   "outputs": [],
   "source": [
    "mae = metrics.mean_absolute_error(y_test.values, predictions)\n",
    "rmse = np.sqrt(metrics.mean_squared_error(y_test.values, predictions))\n",
    "r2_score = model.score(X_test.values, y_test.values)"
   ]
  },
  {
   "cell_type": "code",
   "execution_count": 49,
   "id": "58a6da7e-c22c-418b-b8a6-e6a98baf83dd",
   "metadata": {},
   "outputs": [
    {
     "name": "stdout",
     "output_type": "stream",
     "text": [
      "Mean Absolute Error: 267.47\n",
      "Root Mean Square Error: 394.82\n",
      "R^2: 0.629\n"
     ]
    }
   ],
   "source": [
    "print(f\"Mean Absolute Error: {mae:.2f}\")\n",
    "print(f\"Root Mean Square Error: {rmse:.2f}\")\n",
    "print(f\"R^2: {r2_score:.3f}\")"
   ]
  },
  {
   "cell_type": "code",
   "execution_count": 51,
   "id": "72496b03-3d9c-4def-83da-132cd89b462a",
   "metadata": {},
   "outputs": [],
   "source": [
    "with open(join('..', \"reports\", 'metrics.json'), \"w\") as fd:\n",
    "    json.dump({\"MAE\": mae, \"RMSE\": rmse, \"R^2\":r2_score}, fd, indent=4)"
   ]
  },
  {
   "cell_type": "code",
   "execution_count": 52,
   "id": "37162c61-f05e-426b-919d-7130893b39bf",
   "metadata": {},
   "outputs": [
    {
     "name": "stdout",
     "output_type": "stream",
     "text": [
      "Writing ../src/evaluate.py\n"
     ]
    }
   ],
   "source": [
    "%%writefile ../src/evaluate.py\n",
    "\n",
    "import pandas as pd, os, numpy as np, pickle, json, pprint\n",
    "import sklearn.metrics as metrics\n",
    "\n",
    "model_path = os.path.join('models', 'rf_model.pkl')\n",
    "metrics_path = os.path.join(\"reports\", 'metrics.json')\n",
    "test_path = os.path.join(\"data\", 'processed', 'test.parquet')\n",
    "\n",
    "with open(model_path, \"rb\") as fd:\n",
    "    model = pickle.load(fd)\n",
    "\n",
    "X_test = pd.read_parquet(test_path)\n",
    "y_test = X_test.pop('rented_bike_count')\n",
    "\n",
    "predictions = model.predict(X_test.values)\n",
    "\n",
    "mae = metrics.mean_absolute_error(y_test.values, predictions)\n",
    "rmse = np.sqrt(metrics.mean_squared_error(y_test.values, predictions))\n",
    "r2_score = model.score(X_test.values, y_test.values)\n",
    "\n",
    "with open(metrics_path, \"w\") as fd:\n",
    "    json.dump({\"MAE\": mae, \"RMSE\": rmse, \"R^2\": r2_score}, fd, indent=4)\n",
    "\n",
    "print(\"File Evaluated Successfully!\")\n",
    "pprint.pprint({\"MAE\": mae, \"RMSE\": rmse, \"R^2\": r2_score})"
   ]
  },
  {
   "cell_type": "code",
   "execution_count": null,
   "id": "9ab4cc55-0bfb-4769-b287-02c4f6826b41",
   "metadata": {},
   "outputs": [],
   "source": []
  }
 ],
 "metadata": {
  "kernelspec": {
   "display_name": "Python 3 (ipykernel)",
   "language": "python",
   "name": "python3"
  },
  "language_info": {
   "codemirror_mode": {
    "name": "ipython",
    "version": 3
   },
   "file_extension": ".py",
   "mimetype": "text/x-python",
   "name": "python",
   "nbconvert_exporter": "python",
   "pygments_lexer": "ipython3",
   "version": "3.10.4"
  }
 },
 "nbformat": 4,
 "nbformat_minor": 5
}
